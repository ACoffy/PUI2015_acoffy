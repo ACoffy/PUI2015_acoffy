{
 "cells": [
  {
   "cell_type": "markdown",
   "metadata": {},
   "source": [
    "### Adhlere Coffy\n",
    "\n",
    "### PUI Section 001\n",
    "\n",
    "### October 13, 2015\n",
    "\n",
    "### HW4 - Task 1: Distributions"
   ]
  },
  {
   "cell_type": "code",
   "execution_count": null,
   "metadata": {
    "collapsed": false
   },
   "outputs": [],
   "source": [
    "#module import\n",
    "import numpy as np\n",
    "import pandas as pd\n",
    "import pylab as pl\n",
    "from zipfile import ZipFile\n",
    "from StringIO import StringIO\n",
    "import urllib2\n",
    "import requests\n",
    "import scipy.stats \n",
    "import datetime as dt\n",
    "\n",
    "%pylab inline"
   ]
  },
  {
   "cell_type": "code",
   "execution_count": null,
   "metadata": {
    "collapsed": false
   },
   "outputs": [],
   "source": [
    "#Pull in the information offline and store it in a dataframe named 'citidata'\n",
    "r = requests.get('https://s3.amazonaws.com/tripdata/201505-citibike-tripdata.zip')\n",
    "z = ZipFile(StringIO(r.content))\n",
    "citidata = pd.read_csv(z.open(\"201505-citibike-tripdata.csv\"))"
   ]
  },
  {
   "cell_type": "code",
   "execution_count": null,
   "metadata": {
    "collapsed": false
   },
   "outputs": [],
   "source": [
    "#print citidata.columns #printing the column heads for reference"
   ]
  },
  {
   "cell_type": "markdown",
   "metadata": {
    "collapsed": true
   },
   "source": [
    "### By Gender"
   ]
  },
  {
   "cell_type": "code",
   "execution_count": null,
   "metadata": {
    "collapsed": false
   },
   "outputs": [],
   "source": [
    "#creates two columns for male and female based on usertype and gender\n",
    "citidata['ageM'] = 2015-citidata['birth year'][(citidata['usertype'] == 'Subscriber') & (citidata['gender'] == 1)]\n",
    "citidata['ageF'] = 2015-citidata['birth year'][(citidata['usertype'] == 'Subscriber') & (citidata['gender'] == 2)]"
   ]
  },
  {
   "cell_type": "code",
   "execution_count": null,
   "metadata": {
    "collapsed": false
   },
   "outputs": [],
   "source": [
    "bins = np.arange(10,99,10) #create the variable to define the x-axis grouping #arange is faster at fulfilling the range requirements than range and/or xrange\n",
    "citidata.ageM.groupby(pd.cut(citidata.ageM,bins)).agg([count_nonzero]).plot(kind='bar')\n",
    "citidata.ageF.groupby(pd.cut(citidata.ageF,bins)).agg([count_nonzero]).plot(kind='bar')"
   ]
  },
  {
   "cell_type": "code",
   "execution_count": null,
   "metadata": {
    "collapsed": false
   },
   "outputs": [],
   "source": [
    "#create the cumulative sums for the respective gender groups\n",
    "csM = citidata.ageM.groupby(pd.cut(citidata.ageM,bins)).agg([count_nonzero]).cumsum()\n",
    "\n",
    "csF = citidata.ageF.groupby(pd.cut(citidata.ageF,bins)).agg([count_nonzero]).cumsum()\n",
    "\n",
    "print np.abs((csM/csM.max()) - (csF/csF.max()) #gives the point to point distance between the two lines on the graph\n",
    "\n",
    "pl.plot(bins[:-1] + 5, csM / csM.max(), label = \"M\")\n",
    "pl.plot(bins[:-1] + 5, csF / csF.max(), label = \"F\")\n",
    "pl.legend()"
   ]
  },
  {
   "cell_type": "markdown",
   "metadata": {},
   "source": [
    "### K-S (Two Sample) Test"
   ]
  },
  {
   "cell_type": "code",
   "execution_count": null,
   "metadata": {
    "collapsed": false
   },
   "outputs": [],
   "source": [
    "ks=scipy.stats.ks_2samp(citidata.ageM, citidata.ageF)\n",
    "print ks"
   ]
  },
  {
   "cell_type": "markdown",
   "metadata": {},
   "source": [
    "#### K-S Interpretation\n",
    "#### These results provide a two fold understanding of the K-S (two sample) test. Upon initial inspection the p-value being return as zero is an indication that the null hypothesis should be rejected because the two samples do not come from the same distribution. Moreover, the p-value expresses the chance (probability) that the K-S statistic is as large or larger than observed (in this case based on a score from a confidence interval). This is where the K-S (two sample) test begins to break down.\n",
    "\n",
    "#### The K-S statistic holds a value of 0.43855. Based on the scores for various confidence levels provided in a table by Dr. Bianco (thank you!!) the K-S statistic does not satisfy the requirement set by the p-value that it is as large or larger than observed, for a 5% significance level. With this said, we fail to reject the null hypothesis that the two samples come from the same distribution. \n",
    "\n",
    "#### As noted in liturature, the K-S test should not be used for categorical data as the data tends to have many ties. The p-value breaks down for the K-S (two sample) test as it is calculated by evaluating the maximum point distance between the cumulative frequency distributions between the two sets."
   ]
  },
  {
   "cell_type": "markdown",
   "metadata": {},
   "source": [
    "### Pearson Test"
   ]
  },
  {
   "cell_type": "code",
   "execution_count": null,
   "metadata": {
    "collapsed": true
   },
   "outputs": [],
   "source": [
    "#first have to remove nan values and take a random sample of equal length for each category this was easier in an array using a loop\n",
    "\n",
    "#the next two lines use a comprehension to loop through a list of values and only pick those that aren't NaN\n",
    "ageF = np.array([i for i in citidata.ageF if not np.isnan(i)])\n",
    "ageM = np.array([t for t in citidata.ageM if not np.isnan(t)])"
   ]
  },
  {
   "cell_type": "code",
   "execution_count": null,
   "metadata": {
    "collapsed": false
   },
   "outputs": [],
   "source": [
    "#creates a random sample of the newly created array without NaNs AND does not repeat any values\n",
    "NoNaN_ageM = np.random.choice(ageM, len(ageF), replace = False) #Male array is longer than female array so it can't be the sample size\n",
    "\n",
    "#Test to see if the array is unique\n",
    "#len(NoNaN_ageM)==len(set(NoNaN_ageM)) #this does not work because set() truncates floats to 1 decimal place so it identifies resulting values as repeats"
   ]
  },
  {
   "cell_type": "code",
   "execution_count": null,
   "metadata": {
    "collapsed": false
   },
   "outputs": [],
   "source": [
    "scipy.stats.pearsonr(NoNaN_ageM, ageF)"
   ]
  },
  {
   "cell_type": "markdown",
   "metadata": {},
   "source": [
    "#### Pearson's Interpretation\n",
    "#### With such a small correlation coefficient, one can infer that the two datasets are not linearly correlated, which is not to say they are not correlated in some other fashion."
   ]
  },
  {
   "cell_type": "markdown",
   "metadata": {},
   "source": [
    "### Spearman Test"
   ]
  },
  {
   "cell_type": "code",
   "execution_count": null,
   "metadata": {
    "collapsed": false
   },
   "outputs": [],
   "source": [
    "scipy.stats.spearmanr(citidata.ageF, citidata.ageM, axis=0)"
   ]
  },
  {
   "cell_type": "markdown",
   "metadata": {},
   "source": [
    "#### Spearman Interpretation\n",
    "#### The correlation coefficience indications that the valuables are inversely correlated, e.g. as one increases the other decreases or vice versa. The p-value has a null hypothesis that the two sets have no correlation so a zero implies that there is no chance that a random sample would result in a correlation coefficient as far or further from zero as is observed here."
   ]
  },
  {
   "cell_type": "markdown",
   "metadata": {},
   "source": [
    "### Compare Day vs. Night for the Same Dataset"
   ]
  },
  {
   "cell_type": "code",
   "execution_count": null,
   "metadata": {
    "collapsed": true
   },
   "outputs": [],
   "source": [
    "citidata = pd.read_csv(z.open(\"201505-citibike-tripdata.csv\"))"
   ]
  },
  {
   "cell_type": "code",
   "execution_count": null,
   "metadata": {
    "collapsed": false
   },
   "outputs": [],
   "source": [
    "#Have to change time format to distinguish between night & day\n",
    "daytime = 6\n",
    "nighttime = 19\n",
    "\n",
    "#Loop through all data, converting the time to only hours and evaluate day/night\n",
    "times = [str.split(j)[1] for j in citidata.starttime]\n",
    "citidata['mystarttime']=[dt.datetime.strptime(j, \"%H:%M:%S\").hour for j in times]\n",
    "citidata['timeD'] = 2015 - citidata['birth year'][(citidata['usertype'] == 'Subscriber') & ((citidata['mystarttime'] < nighttime) & (citidata['mystarttime'] > daytime))]\n",
    "citidata['timeN'] = 2015 - citidata['birth year'][(citidata['usertype'] == 'Subscriber') & ((citidata['mystarttime'] > nighttime) & (citidata['mystarttime'] < daytime))]"
   ]
  },
  {
   "cell_type": "code",
   "execution_count": null,
   "metadata": {
    "collapsed": false
   },
   "outputs": [],
   "source": [
    "#calculate the cumulative frequency distribution\n",
    "bins = np.arange(10,99,10)\n",
    "csDay = citidata.timeD.groupby(pd.cut(citidata.timeD, bins)).agg([count_nonzero]).cumsum()\n",
    "csNight = citidata.timeN.groupby(pd.cut(citidata.timeN, bins)).agg([count_nonzero]).cumsum()\n",
    "print np.abs(csDay/csDay.max() - csNight/csNight.max())\n",
    "\n",
    "pl.plot(bins[:-1] + 5, csDay/csDay.max(), label = \"Day\")\n",
    "pl.plot(bins[:-1] + 5, csNight/csNight.max(), label = \"Night\")\n",
    "pl.legend()"
   ]
  },
  {
   "cell_type": "markdown",
   "metadata": {},
   "source": [
    "### K-S Test (Day vs. Night)"
   ]
  },
  {
   "cell_type": "code",
   "execution_count": null,
   "metadata": {
    "collapsed": true
   },
   "outputs": [],
   "source": [
    "scipy.stats.ks_2samp(citidata.timeD, citidata.timeN)"
   ]
  },
  {
   "cell_type": "markdown",
   "metadata": {},
   "source": [
    "### Pearson Test (Day vs. Night)"
   ]
  },
  {
   "cell_type": "code",
   "execution_count": null,
   "metadata": {
    "collapsed": true
   },
   "outputs": [],
   "source": [
    "timeDay = np.array([i for i in citidata.timeD if not np.isnan(i)])\n",
    "timeNight = np.array([t for t in citidata.timeN if not np.isnan(t)])\n",
    "\n",
    "NoNaN_timeDay = np.random.choice(timeDay, len(timeNight), replace = False)\n",
    "scipy.stats.pearsonr(NoNaN_timeDay, timeNight)"
   ]
  },
  {
   "cell_type": "markdown",
   "metadata": {},
   "source": [
    "### Spearman Test (Day vs. Night)"
   ]
  },
  {
   "cell_type": "code",
   "execution_count": null,
   "metadata": {
    "collapsed": true
   },
   "outputs": [],
   "source": [
    "scipy.stats.spearmanr(citidata.timeD, citidata.timeN, axis = 0)"
   ]
  }
 ],
 "metadata": {
  "kernelspec": {
   "display_name": "Python 2",
   "language": "python",
   "name": "python2"
  },
  "language_info": {
   "codemirror_mode": {
    "name": "ipython",
    "version": 2
   },
   "file_extension": ".py",
   "mimetype": "text/x-python",
   "name": "python",
   "nbconvert_exporter": "python",
   "pygments_lexer": "ipython2",
   "version": "2.7.10"
  }
 },
 "nbformat": 4,
 "nbformat_minor": 0
}
