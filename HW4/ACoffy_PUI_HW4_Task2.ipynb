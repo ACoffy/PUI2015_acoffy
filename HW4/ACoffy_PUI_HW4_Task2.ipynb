{
 "cells": [
  {
   "cell_type": "markdown",
   "metadata": {},
   "source": [
    "### Adhlere Coffy\n",
    "\n",
    "### PUI Section 001\n",
    "\n",
    "### October 13, 2015\n",
    "\n",
    "### HW4 - Task 2: Goodness of Fit Tests"
   ]
  },
  {
   "cell_type": "code",
   "execution_count": 1,
   "metadata": {
    "collapsed": false
   },
   "outputs": [
    {
     "name": "stdout",
     "output_type": "stream",
     "text": [
      "Populating the interactive namespace from numpy and matplotlib\n"
     ]
    }
   ],
   "source": [
    "#module import\n",
    "\n",
    "import os\n",
    "import pandas as pd\n",
    "import numpy as np\n",
    "import scipy.stats\n",
    "import pylab as pl\n",
    "%pylab inline\n",
    "\n",
    "import json\n",
    "s = json.load(open(os.getenv('PUI2015')+\"/plotformat.json\"))"
   ]
  },
  {
   "cell_type": "code",
   "execution_count": 2,
   "metadata": {
    "collapsed": false
   },
   "outputs": [
    {
     "name": "stdout",
     "output_type": "stream",
     "text": [
      "Normal on normal: K-S test (0.0077821528752504698, 0.57995751971992593)\n",
      "Normal on normal: A-D test (0.23362936526609701, array([0.5760, 0.6560, 0.7870, 0.9180, 1.0920]), array([15.0000, 10.0000, 5.0000, 2.5000, 1.0000]))\n",
      "\n",
      "Binomial on normal: K-S test (0.5, 0.0)\n",
      "Binomial on normal: A-D test (1797.153169865247, array([0.5760, 0.6560, 0.7870, 0.9180, 1.0920]), array([15.0000, 10.0000, 5.0000, 2.5000, 1.0000]))\n",
      "\n",
      "Poisson on normal: K-S test (0.5, 0.0)\n",
      "Poisson on normal: A-D test (609.01168766557566, array([0.5760, 0.6560, 0.7870, 0.9180, 1.0920]), array([15.0000, 10.0000, 5.0000, 2.5000, 1.0000]))\n",
      "\n",
      "Threshold is [1.0920]\n"
     ]
    }
   ],
   "source": [
    "#create a random distributions\n",
    "np.random.seed(324)\n",
    "\n",
    "#random generators for normal, binomial, and poisson distributions\n",
    "normDist = np.random.randn(10000)\n",
    "binomDist = np.random.binomial(1,0.5, 10000)\n",
    "poissDist = np.random.poisson(1,10000)\n",
    "\n",
    "#printing results for K-S & A-D (Anderson Darling) tests per each distribution\n",
    "\n",
    "#trying to test formatting for scipy outputs....FAIL\n",
    "float_formatter = lambda x: \"%.4f\" %x\n",
    "np.set_printoptions(formatter={'float_kind':float_formatter})\n",
    "\n",
    "#Normal (Gaussian) Distribution\n",
    "print \"Normal on normal: K-S test\", scipy.stats.kstest(normDist, 'norm')\n",
    "print \"Normal on normal: A-D test\", scipy.stats.anderson(normDist, dist='norm')\n",
    "\n",
    "#Binomial Distribution\n",
    "print \"\\nBinomial on normal: K-S test\", scipy.stats.kstest(binomDist, 'norm')\n",
    "print \"Binomial on normal: A-D test\", scipy.stats.anderson(binomDist, dist='norm')\n",
    "\n",
    "#Poisson Distribution\n",
    "print \"\\nPoisson on normal: K-S test\", scipy.stats.kstest(poissDist, 'norm')\n",
    "print \"Poisson on normal: A-D test\", scipy.stats.anderson(poissDist, dist='norm')\n",
    "\n",
    "threshold = scipy.stats.anderson(normDist, dist='norm')[1][scipy.stats.anderson(normDist, dist='norm')[2]==[1.0]]\n",
    "print '\\nThreshold is', threshold"
   ]
  },
  {
   "cell_type": "code",
   "execution_count": 3,
   "metadata": {
    "collapsed": false
   },
   "outputs": [
    {
     "name": "stdout",
     "output_type": "stream",
     "text": [
      "Normal on normal:  0.00168636514394\n",
      "Binomial on normal:  1.6846128039\n",
      "Poisson on normal:  0.494413329173\n"
     ]
    }
   ],
   "source": [
    "#performing the KL test\n",
    "norm_distpdf, mybins_norm, = np.histogram(normDist, density=True)\n",
    "binom_distpdf, mybins_binom, = np.histogram(binomDist, density=True)\n",
    "poiss_distpdf, mybins_poiss, = np.histogram(poissDist, density=True)\n",
    "\n",
    "#calculate the bin centers\n",
    "norm_bincenters = mybins_norm[:-1] + 0.5*(mybins_norm[1] - mybins_norm[0])\n",
    "binom_bincenters = mybins_binom[:-1] + 0.5*(mybins_binom[1] - mybins_binom[0])\n",
    "poiss_bincenters = mybins_poiss[:-1] + 0.5*(mybins_poiss[1] - mybins_poiss[0])\n",
    "\n",
    "print \"Normal on normal: \", scipy.stats.entropy(norm_distpdf, scipy.stats.norm.pdf(norm_bincenters))\n",
    "print \"Binomial on normal: \", scipy.stats.entropy(binom_distpdf, scipy.stats.norm.pdf(binom_bincenters))\n",
    "print \"Poisson on normal: \", scipy.stats.entropy(poiss_distpdf, scipy.stats.norm.pdf(poiss_bincenters))"
   ]
  },
  {
   "cell_type": "markdown",
   "metadata": {},
   "source": [
    "## Binomial Goodness of Fit Test"
   ]
  },
  {
   "cell_type": "markdown",
   "metadata": {},
   "source": [
    "__Something to remember__!! \n",
    "Using NumPy zeros/ones/empty is faster than just initializing an array. Arrays are stored in contiguous blocks of memory. If you want to add rows/columns to an existing array, the entire array needs to be copied to a new block of memory to make room for the new row/column. Most efficient way to use arrays is to create one with dummy elements but of final the size expected for the array. **See below**!"
   ]
  },
  {
   "cell_type": "code",
   "execution_count": 4,
   "metadata": {
    "collapsed": true
   },
   "outputs": [],
   "source": [
    "#create the array that will determine the size of the test samples\n",
    "sizeArray = range(1,1000)\n",
    "\n",
    "#zero arrays\n",
    "binom_ks = np.zeros(len(sizeArray))\n",
    "binom_ad = np.zeros(len(sizeArray))\n",
    "binom_kl = np.zeros(len(sizeArray))\n",
    "\n",
    "def mynorm(x, mu, var):\n",
    "    return scipy.stats.norm.cdf(x, loc=mu, scale=var)\n",
    "\n",
    "p = 0.5"
   ]
  },
  {
   "cell_type": "code",
   "execution_count": 5,
   "metadata": {
    "collapsed": false
   },
   "outputs": [],
   "source": [
    "for i,j in enumerate(sizeArray):\n",
    "    p = 0.35\n",
    "    binom_Dist = np.random.binomial(j,p,1000)\n",
    "    \n",
    "    binom_ks[i] = scipy.stats.kstest(binom_Dist, mynorm, args=(j*p, j*p*(1.0-p)))[0]\n",
    "    binom_ad[i] = scipy.stats.anderson(binom_Dist, dist='norm')[0]\n",
    "    \n",
    "    #bins for KL test\n",
    "    mybins = np.linspace(min(binom_Dist), max(binom_Dist), 10)\n",
    "    bincenters = mybins[:-1]+0.5*(mybins[1]-mybins[0])\n",
    "    binom_kl[i] = scipy.stats.entropy(np.histogram(binom_Dist,bins=mybins)[0], scipy.stats.norm.pdf(bincenters, loc=j*p, scale=j*p*(1.0-p)))"
   ]
  },
  {
   "cell_type": "code",
   "execution_count": 6,
   "metadata": {
    "collapsed": false
   },
   "outputs": [
    {
     "data": {
      "text/plain": [
       "<matplotlib.legend.Legend at 0x108299fd0>"
      ]
     },
     "execution_count": 6,
     "metadata": {},
     "output_type": "execute_result"
    },
    {
     "data": {
      "image/png": "[encoded data removed]",
      "text/plain": [
       "<matplotlib.figure.Figure at 0x1080f1610>"
      ]
     },
     "metadata": {},
     "output_type": "display_data"
    }
   ],
   "source": [
    "fig = figure(figsize = (15,5))\n",
    "fig.add_subplot(131)\n",
    "plot(sizeArray, binom_ks, label='KS')\n",
    "legend()\n",
    "\n",
    "fig.add_subplot(132)\n",
    "plot(sizeArray, binom_ad,  label='AD')\n",
    "plot()\n",
    "legend()\n",
    "\n",
    "fig.add_subplot(133)\n",
    "plot(sizeArray, binom_kl, label='K-L ')\n",
    "legend()"
   ]
  },
  {
   "cell_type": "markdown",
   "metadata": {},
   "source": [
    "__Caption__: Graphs above demonstrate the impact population size has on the 'nature' of the binomial distribution. As size increases it converges on a value acting as a normal distribution would."
   ]
  },
  {
   "cell_type": "markdown",
   "metadata": {},
   "source": [
    "## Poisson Goodness of Fit Test"
   ]
  },
  {
   "cell_type": "code",
   "execution_count": 7,
   "metadata": {
    "collapsed": true
   },
   "outputs": [],
   "source": [
    "#create the array that will determine the size of the test samples\n",
    "sizeArray = range(1,1000)\n",
    "\n",
    "#zero arrays\n",
    "poiss_ks = np.ones(len(sizeArray))\n",
    "poiss_ad = np.ones(len(sizeArray))\n",
    "poiss_kl = np.ones(len(sizeArray))\n",
    "\n",
    "def mynorm(x, mu, var):\n",
    "    return scipy.stats.norm.cdf(x, loc=mu, scale=var)\n",
    "\n",
    "p = 0.5"
   ]
  },
  {
   "cell_type": "code",
   "execution_count": 8,
   "metadata": {
    "collapsed": false
   },
   "outputs": [],
   "source": [
    "for i,j in enumerate(sizeArray):\n",
    "    p = 0.35\n",
    "    poiss_Dist = np.random.poisson(j,1000)\n",
    "    \n",
    "    poiss_ks[i] = scipy.stats.kstest(poiss_Dist, mynorm, args=(j*p, j*p*(1.0-p)))[0]\n",
    "    poiss_ad[i] = scipy.stats.anderson(poiss_Dist, dist='norm')[0]\n",
    "    \n",
    "    #bins for KL test\n",
    "    mybins = np.linspace(min(poiss_Dist), max(poiss_Dist), 10)\n",
    "    bincenters = mybins[:-1]+0.5*(mybins[1]-mybins[0])\n",
    "    poiss_kl[i] = scipy.stats.entropy(np.histogram(poiss_Dist,bins=mybins)[0], scipy.stats.norm.pdf(bincenters, loc=j*p, scale=j*p*(1.0-p)))"
   ]
  },
  {
   "cell_type": "code",
   "execution_count": 9,
   "metadata": {
    "collapsed": false
   },
   "outputs": [
    {
     "data": {
      "text/plain": [
       "<matplotlib.legend.Legend at 0x108992f50>"
      ]
     },
     "execution_count": 9,
     "metadata": {},
     "output_type": "execute_result"
    },
    {
     "data": {
      "image/png": "[encoded data removed]",
      "text/plain": [
       "<matplotlib.figure.Figure at 0x1082b38d0>"
      ]
     },
     "metadata": {},
     "output_type": "display_data"
    }
   ],
   "source": [
    "fig = figure(figsize = (15,5))\n",
    "fig.add_subplot(131)\n",
    "plot(sizeArray, poiss_ks, label='KS')\n",
    "legend()\n",
    "\n",
    "fig.add_subplot(132)\n",
    "plot(sizeArray, poiss_ad,  label='AD')\n",
    "plot()\n",
    "legend()\n",
    "\n",
    "fig.add_subplot(133)\n",
    "plot(sizeArray, poiss_kl, label='K-L ')\n",
    "legend()"
   ]
  }
 ],
 "metadata": {
  "kernelspec": {
   "display_name": "Python 2",
   "language": "python",
   "name": "python2"
  },
  "language_info": {
   "codemirror_mode": {
    "name": "ipython",
    "version": 2
   },
   "file_extension": ".py",
   "mimetype": "text/x-python",
   "name": "python",
   "nbconvert_exporter": "python",
   "pygments_lexer": "ipython2",
   "version": "2.7.10"
  }
 },
 "nbformat": 4,
 "nbformat_minor": 0
}
