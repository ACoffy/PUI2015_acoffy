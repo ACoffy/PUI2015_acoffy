{
 "cells": [
  {
   "cell_type": "code",
   "execution_count": 12,
   "metadata": {
    "collapsed": false
   },
   "outputs": [
    {
     "name": "stdout",
     "output_type": "stream",
     "text": [
      "Populating the interactive namespace from numpy and matplotlib\n"
     ]
    }
   ],
   "source": [
    "#Module Import\n",
    "import numpy as np\n",
    "import pylab as pl\n",
    "import sys\n",
    "\n",
    "%pylab inline"
   ]
  },
  {
   "cell_type": "code",
   "execution_count": 13,
   "metadata": {
    "collapsed": false
   },
   "outputs": [
    {
     "name": "stdout",
     "output_type": "stream",
     "text": [
      "185.686 595.584\n"
     ]
    }
   ],
   "source": [
    "#For Z test\n",
    "alpha = 0.05\n",
    "#we like fractions better then percentages. as a rule of thumb, either use fractions or counts\n",
    "pCtrl = 45.4 * 0.01\n",
    "pProg = 105.6 * 0.01\n",
    "\n",
    "nCtrl = 409\n",
    "nProg = 564\n",
    "\n",
    "#Getting the counts by multiplying by the sample size\n",
    "NtCtrl = pCtrl * nCtrl\n",
    "NtProg = pProg * nProg\n",
    "print NtCtrl, NtProg"
   ]
  },
  {
   "cell_type": "code",
   "execution_count": 14,
   "metadata": {
    "collapsed": false
   },
   "outputs": [
    {
     "name": "stdout",
     "output_type": "stream",
     "text": [
      "0.802949640288\n"
     ]
    }
   ],
   "source": [
    "sampProp = (pCtrl * nCtrl + pProg * nProg) / (nCtrl + nProg)\n",
    "print sampProp"
   ]
  },
  {
   "cell_type": "code",
   "execution_count": 15,
   "metadata": {
    "collapsed": false
   },
   "outputs": [
    {
     "name": "stdout",
     "output_type": "stream",
     "text": [
      "0.454 409 564 nan\n"
     ]
    },
    {
     "name": "stderr",
     "output_type": "stream",
     "text": [
      "/Applications/Python/anaconda/lib/python2.7/site-packages/ipykernel/__main__.py:2: RuntimeWarning: invalid value encountered in sqrt\n",
      "  from ipykernel import kernelapp as app\n"
     ]
    }
   ],
   "source": [
    "#Calculation Standard deviation for 3 years of employment\n",
    "sp_standev = lambda p, n: np.sqrt(p * (1-p)/ n[0] + p * (1-p)/n[1])\n",
    "sp_standev_3y = sp_standev((pCtrl + pProg), [nCtrl, nProg])\n",
    "print pCtrl, nCtrl, nProg, sp_standev_3y\n"
   ]
  },
  {
   "cell_type": "code",
   "execution_count": 9,
   "metadata": {
    "collapsed": false
   },
   "outputs": [
    {
     "ename": "NameError",
     "evalue": "name 'sp_stdev_3y' is not defined",
     "output_type": "error",
     "traceback": [
      "\u001b[0;31m---------------------------------------------------------------------------\u001b[0m",
      "\u001b[0;31mNameError\u001b[0m                                 Traceback (most recent call last)",
      "\u001b[0;32m<ipython-input-9-91674909d51c>\u001b[0m in \u001b[0;36m<module>\u001b[0;34m()\u001b[0m\n\u001b[1;32m      2\u001b[0m \u001b[0malpha\u001b[0m \u001b[0;34m=\u001b[0m \u001b[0;36m.05\u001b[0m\u001b[0;34m\u001b[0m\u001b[0m\n\u001b[1;32m      3\u001b[0m \u001b[0mzscore\u001b[0m \u001b[0;34m=\u001b[0m \u001b[0;32mlambda\u001b[0m \u001b[0mp0\u001b[0m\u001b[0;34m,\u001b[0m \u001b[0mp1\u001b[0m\u001b[0;34m,\u001b[0m \u001b[0ms\u001b[0m \u001b[0;34m:\u001b[0m \u001b[0;34m(\u001b[0m\u001b[0mp0\u001b[0m\u001b[0;34m-\u001b[0m\u001b[0mp1\u001b[0m\u001b[0;34m)\u001b[0m\u001b[0;34m/\u001b[0m\u001b[0ms\u001b[0m\u001b[0;34m\u001b[0m\u001b[0m\n\u001b[0;32m----> 4\u001b[0;31m \u001b[0mz_3y\u001b[0m \u001b[0;34m=\u001b[0m \u001b[0mzscore\u001b[0m\u001b[0;34m(\u001b[0m\u001b[0mpProg\u001b[0m\u001b[0;34m,\u001b[0m \u001b[0mpCtrl\u001b[0m\u001b[0;34m,\u001b[0m \u001b[0msp_stdev_3y\u001b[0m\u001b[0;34m)\u001b[0m\u001b[0;34m\u001b[0m\u001b[0m\n\u001b[0m\u001b[1;32m      5\u001b[0m \u001b[0;32mprint\u001b[0m \u001b[0mz_3y\u001b[0m\u001b[0;34m\u001b[0m\u001b[0m\n\u001b[1;32m      6\u001b[0m \u001b[0;34m\u001b[0m\u001b[0m\n",
      "\u001b[0;31mNameError\u001b[0m: name 'sp_stdev_3y' is not defined"
     ]
    }
   ],
   "source": [
    "#For Z-score (# of std deviations away from population parameter)\n",
    "alpha = .05\n",
    "zscore = lambda p0, p1, s : (p0-p1)/s\n",
    "z_3y = zscore(pProg, pCtrl, sp_stdev_3y)\n",
    "print z_3y\n",
    "\n"
   ]
  },
  {
   "cell_type": "code",
   "execution_count": null,
   "metadata": {
    "collapsed": true
   },
   "outputs": [],
   "source": [
    "#P-value for 3 years of employment\n",
    "\n",
    "p_3y = 1 - 0.6368\n",
    "\n",
    "def report_result(p, a):\n",
    "    print 'Is the p value {0:.2f} smaller than the critical value {1:.2f}? '.format(p, a)\n",
    "    if p < a:\n",
    "        print \"YES!\" \n",
    "    else: print \"NO!\"\n",
    "    \n",
    "    print 'The null hypothesis is {}'.format('rejected.' if p < a else 'not rejected.') \n",
    "\n",
    "report_result(p_3y, alpha)\n",
    "\n",
    "z_3y = zscore(P_1, P_0, sp_standev_3y)\n",
    "\n",
    "print z_3y\n",
    "\n"
   ]
  },
  {
   "cell_type": "code",
   "execution_count": null,
   "metadata": {
    "collapsed": true
   },
   "outputs": [],
   "source": [
    "Ntot_ = 973\n",
    "expected_ = 564*409*131.579*841.421\n",
    "sample_values_ = [[14.7*5.64, 85.3*5.64], [11.9*4.09, 88.1*4.09]]\n",
    "\n",
    "chisqstat_= lambda N, values, expect : N*((values[0][0]*values[1][1]-values[0][1]*values[1][0])**2)/(expected_)\n",
    "\n",
    "print chisqstat_(Ntot_, sample_values_, expected_)"
   ]
  }
 ],
 "metadata": {
  "kernelspec": {
   "display_name": "Python 2",
   "language": "python",
   "name": "python2"
  },
  "language_info": {
   "codemirror_mode": {
    "name": "ipython",
    "version": 2
   },
   "file_extension": ".py",
   "mimetype": "text/x-python",
   "name": "python",
   "nbconvert_exporter": "python",
   "pygments_lexer": "ipython2",
   "version": "2.7.10"
  }
 },
 "nbformat": 4,
 "nbformat_minor": 0
}
